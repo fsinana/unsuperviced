{
  "nbformat": 4,
  "nbformat_minor": 0,
  "metadata": {
    "colab": {
      "provenance": []
    },
    "kernelspec": {
      "name": "python3",
      "display_name": "Python 3"
    },
    "language_info": {
      "name": "python"
    }
  },
  "cells": [
    {
      "cell_type": "code",
      "execution_count": null,
      "metadata": {
        "colab": {
          "base_uri": "https://localhost:8080/"
        },
        "id": "-HZpBneeP3pR",
        "outputId": "1c992641-7547-4886-af79-d59180e97690"
      },
      "outputs": [
        {
          "output_type": "stream",
          "name": "stdout",
          "text": [
            "Scraping page: 1\n",
            "Scraping page: 2\n",
            "                                               Title         Company  \\\n",
            "0  Staff Software Engineer - Monetization, Poe (R...     Quora, Inc.   \n",
            "1  Staff Backend Engineer - Bot Creator Ecosystem...     Quora, Inc.   \n",
            "2  Senior Backend Engineer - Bot Creator Ecosyste...     Quora, Inc.   \n",
            "3                         Data Scientist Lead - AIML  JPMorgan Chase   \n",
            "4          Applied AI ML Director - Machine Learning  JPMorgan Chase   \n",
            "\n",
            "                      Location  Experience  \\\n",
            "0                        India   8-10 year   \n",
            "1                        India   8-10 year   \n",
            "2                        India    6-8 year   \n",
            "3  Bengaluru, Karnataka, India    6-8 year   \n",
            "4  Hyderabad, Telangana, India  12-14 year   \n",
            "\n",
            "                                             Summary  \\\n",
            "0  About Quora:Quora’s mission is to grow and sha...   \n",
            "1  About Quora:Quora’s mission is to grow and sha...   \n",
            "2  About Quora:Quora’s mission is to grow and sha...   \n",
            "3  We have an opportunity to impact your career a...   \n",
            "4  Elevate your career as the Director of Machine...   \n",
            "\n",
            "                                              Skills  \n",
            "0  Aartificial intelligence,Analytical and Proble...  \n",
            "1  Aartificial intelligence,API,Data science tech...  \n",
            "2  Aartificial intelligence,API,Data science tech...  \n",
            "3  Aartificial intelligence,Data science techniqu...  \n",
            "4  Aartificial intelligence,AWS,Azure,Google Clou...  \n"
          ]
        }
      ],
      "source": [
        "import requests\n",
        "from bs4 import BeautifulSoup\n",
        "import pandas as pd\n",
        "import time\n",
        "\n",
        "def scrape_karkidi_jobs(keyword=\"data science\", pages=1):\n",
        "    headers = {'User-Agent': 'Mozilla/5.0'}\n",
        "    base_url = \"https://www.karkidi.com/Find-Jobs/{page}/all/India?search={query}\"\n",
        "    jobs_list = []\n",
        "\n",
        "    for page in range(1, pages + 1):\n",
        "        url = base_url.format(page=page, query=keyword.replace(' ', '%20'))\n",
        "        print(f\"Scraping page: {page}\")\n",
        "        response = requests.get(url, headers=headers)\n",
        "        soup = BeautifulSoup(response.content, \"html.parser\")\n",
        "\n",
        "        job_blocks = soup.find_all(\"div\", class_=\"ads-details\")\n",
        "        for job in job_blocks:\n",
        "            try:\n",
        "                title = job.find(\"h4\").get_text(strip=True)\n",
        "                company = job.find(\"a\", href=lambda x: x and \"Employer-Profile\" in x).get_text(strip=True)\n",
        "                location = job.find(\"p\").get_text(strip=True)\n",
        "                experience = job.find(\"p\", class_=\"emp-exp\").get_text(strip=True)\n",
        "                key_skills_tag = job.find(\"span\", string=\"Key Skills\")\n",
        "                skills = key_skills_tag.find_next(\"p\").get_text(strip=True) if key_skills_tag else \"\"\n",
        "                summary_tag = job.find(\"span\", string=\"Summary\")\n",
        "                summary = summary_tag.find_next(\"p\").get_text(strip=True) if summary_tag else \"\"\n",
        "\n",
        "                jobs_list.append({\n",
        "                    \"Title\": title,\n",
        "                    \"Company\": company,\n",
        "                    \"Location\": location,\n",
        "                    \"Experience\": experience,\n",
        "                    \"Summary\": summary,\n",
        "                    \"Skills\": skills\n",
        "                })\n",
        "            except Exception as e:\n",
        "                print(f\"Error parsing job block: {e}\")\n",
        "                continue\n",
        "\n",
        "        time.sleep(1)  # Be nice to the server\n",
        "\n",
        "    return pd.DataFrame(jobs_list)\n",
        "\n",
        "# Example use:\n",
        "if __name__ == \"__main__\":\n",
        "    df_jobs = scrape_karkidi_jobs(keyword=\"data science\", pages=2)\n",
        "    print(df_jobs.head())\n"
      ]
    },
    {
      "cell_type": "code",
      "source": [
        "import pandas as pd\n",
        "from sklearn.feature_extraction.text import TfidfVectorizer\n",
        "from sklearn.cluster import KMeans\n",
        "import joblib\n",
        "\n",
        "# STEP 1: Preprocess skills text\n",
        "def preprocess_skills(df):\n",
        "    df['Skills'] = df['Skills'].fillna('').str.lower()\n",
        "    return df\n",
        "\n",
        "# STEP 2: Convert skills to TF-IDF vectors\n",
        "def vectorize_skills(df):\n",
        "    vectorizer = TfidfVectorizer(stop_words='english')\n",
        "    X = vectorizer.fit_transform(df['Skills'])\n",
        "    return X, vectorizer\n",
        "\n",
        "# STEP 3: Cluster using KMeans\n",
        "def cluster_jobs(X, n_clusters=5):\n",
        "    kmeans = KMeans(n_clusters=n_clusters, random_state=42)\n",
        "    kmeans.fit(X)\n",
        "    return kmeans\n",
        "\n",
        "# STEP 4: Save model and vectorizer\n",
        "def save_model(kmeans, vectorizer):\n",
        "    joblib.dump(kmeans, 'karkidi_kmeans_model.pkl')\n",
        "    joblib.dump(vectorizer, 'karkidi_vectorizer.pkl')\n",
        "\n",
        "# MAIN PIPELINE\n",
        "if __name__ == \"__main__\":\n",
        "    # Step 0: Scrape jobs (your existing function)\n",
        "    #from your_scraper_file import scrape_karkidi_jobs  # replace with actual file if separate\n",
        "    df_jobs = scrape_karkidi_jobs(keyword=\"data science\", pages=2)\n",
        "\n",
        "    # Step 1: Clean\n",
        "    df_jobs = preprocess_skills(df_jobs)\n",
        "\n",
        "    # Step 2: Vectorize\n",
        "    X, vectorizer = vectorize_skills(df_jobs)\n",
        "\n",
        "    # Step 3: Cluster\n",
        "    kmeans = cluster_jobs(X, n_clusters=5)\n",
        "    df_jobs['Cluster'] = kmeans.labels_\n",
        "\n",
        "    # Step 4: Save\n",
        "    save_model(kmeans, vectorizer)\n",
        "\n",
        "    # Optional: Save DataFrame\n",
        "    df_jobs.to_csv('clustered_jobs.csv', index=False)\n",
        "\n",
        "    print(df_jobs[['Title', 'Company', 'Skills', 'Cluster']].head())\n"
      ],
      "metadata": {
        "colab": {
          "base_uri": "https://localhost:8080/"
        },
        "id": "cytQlvK9RCQt",
        "outputId": "70df37d0-d466-4a2c-b6e8-859a55e07223"
      },
      "execution_count": null,
      "outputs": [
        {
          "output_type": "stream",
          "name": "stdout",
          "text": [
            "Scraping page: 1\n",
            "Scraping page: 2\n",
            "                                               Title         Company  \\\n",
            "0  Staff Software Engineer - Monetization, Poe (R...     Quora, Inc.   \n",
            "1  Staff Backend Engineer - Bot Creator Ecosystem...     Quora, Inc.   \n",
            "2  Senior Backend Engineer - Bot Creator Ecosyste...     Quora, Inc.   \n",
            "3                         Data Scientist Lead - AIML  JPMorgan Chase   \n",
            "4          Applied AI ML Director - Machine Learning  JPMorgan Chase   \n",
            "\n",
            "                                              Skills  Cluster  \n",
            "0  aartificial intelligence,analytical and proble...        1  \n",
            "1  aartificial intelligence,api,data science tech...        1  \n",
            "2  aartificial intelligence,api,data science tech...        1  \n",
            "3  aartificial intelligence,data science techniqu...        2  \n",
            "4  aartificial intelligence,aws,azure,google clou...        0  \n"
          ]
        }
      ]
    },
    {
      "cell_type": "code",
      "source": [
        "import joblib\n",
        "\n",
        "# Load the saved KMeans model and vectorizer\n",
        "kmeans = joblib.load('karkidi_kmeans_model.pkl')\n",
        "vectorizer = joblib.load('karkidi_vectorizer.pkl')\n"
      ],
      "metadata": {
        "id": "uI49hY_BRJwT"
      },
      "execution_count": null,
      "outputs": []
    },
    {
      "cell_type": "code",
      "source": [
        "def classify_new_jobs(new_jobs_df, vectorizer, kmeans):\n",
        "    # Preprocess the new jobs' skills column\n",
        "    new_jobs_df['Skills'] = new_jobs_df['Skills'].fillna('').str.lower()\n",
        "\n",
        "    # Vectorize using the same vectorizer\n",
        "    X_new = vectorizer.transform(new_jobs_df['Skills'])\n",
        "\n",
        "    # Predict cluster\n",
        "    clusters = kmeans.predict(X_new)\n",
        "    new_jobs_df['Cluster'] = clusters\n",
        "\n",
        "    return new_jobs_df\n"
      ],
      "metadata": {
        "id": "Wi1q28RLRMiV"
      },
      "execution_count": null,
      "outputs": []
    },
    {
      "cell_type": "code",
      "source": [
        "def alert_users(jobs_df, preferred_clusters):\n",
        "    matched_jobs = jobs_df[jobs_df['Cluster'].isin(preferred_clusters)]\n",
        "    if not matched_jobs.empty:\n",
        "        print(\"\\n📢 New jobs matching user interests:\")\n",
        "        print(matched_jobs[['Title', 'Company', 'Skills', 'Cluster']])\n",
        "    else:\n",
        "        print(\"\\n❌ No new jobs found for the user's interests.\")\n"
      ],
      "metadata": {
        "id": "RbCLayUKRORU"
      },
      "execution_count": null,
      "outputs": []
    },
    {
      "cell_type": "code",
      "source": [
        "# Scrape fresh jobs\n",
        "new_jobs_df = scrape_karkidi_jobs(keyword=\"data science\", pages=1)\n",
        "\n",
        "# Classify them\n",
        "classified_jobs = classify_new_jobs(new_jobs_df, vectorizer, kmeans)\n",
        "\n",
        "# Example: User is interested in clusters 1 and 3\n",
        "user_clusters = [1, 3]\n",
        "alert_users(classified_jobs, user_clusters)\n"
      ],
      "metadata": {
        "colab": {
          "base_uri": "https://localhost:8080/"
        },
        "id": "7wVKn2_ARQPF",
        "outputId": "da4cf4f3-dfd0-4b2c-aebe-28053082eaef"
      },
      "execution_count": null,
      "outputs": [
        {
          "output_type": "stream",
          "name": "stdout",
          "text": [
            "Scraping page: 1\n",
            "\n",
            "📢 New jobs matching user interests:\n",
            "                                               Title      Company  \\\n",
            "0  Staff Software Engineer - Monetization, Poe (R...  Quora, Inc.   \n",
            "1  Staff Backend Engineer - Bot Creator Ecosystem...  Quora, Inc.   \n",
            "2  Senior Backend Engineer - Bot Creator Ecosyste...  Quora, Inc.   \n",
            "5                            Senior Product Designer   Observe.AI   \n",
            "\n",
            "                                              Skills  Cluster  \n",
            "0  aartificial intelligence,analytical and proble...        1  \n",
            "1  aartificial intelligence,api,data science tech...        1  \n",
            "2  aartificial intelligence,api,data science tech...        1  \n",
            "5  design,leadership skill,machine learning techn...        3  \n"
          ]
        }
      ]
    }
  ]
}